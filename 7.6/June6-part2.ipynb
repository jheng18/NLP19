{
 "cells": [
  {
   "cell_type": "markdown",
   "metadata": {},
   "source": [
    "# Introduction to NLTK\n",
    "## June 6, 2019\n",
    "## Jie Heng"
   ]
  },
  {
   "cell_type": "code",
   "execution_count": 2,
   "metadata": {},
   "outputs": [
    {
     "name": "stdout",
     "output_type": "stream",
     "text": [
      "*** Introductory Examples for the NLTK Book ***\n",
      "Loading text1, ..., text9 and sent1, ..., sent9\n",
      "Type the name of the text or sentence to view it.\n",
      "Type: 'texts()' or 'sents()' to list the materials.\n",
      "text1: Moby Dick by Herman Melville 1851\n",
      "text2: Sense and Sensibility by Jane Austen 1811\n",
      "text3: The Book of Genesis\n",
      "text4: Inaugural Address Corpus\n",
      "text5: Chat Corpus\n",
      "text6: Monty Python and the Holy Grail\n",
      "text7: Wall Street Journal\n",
      "text8: Personals Corpus\n",
      "text9: The Man Who Was Thursday by G . K . Chesterton 1908\n"
     ]
    }
   ],
   "source": [
    "import nltk\n",
    "from nltk.book import *"
   ]
  },
  {
   "cell_type": "code",
   "execution_count": 26,
   "metadata": {},
   "outputs": [],
   "source": [
    "import matplotlib.pyplot as plt"
   ]
  },
  {
   "cell_type": "code",
   "execution_count": 31,
   "metadata": {},
   "outputs": [
    {
     "data": {
      "text/plain": [
       "['25',\n",
       " 'SEXY',\n",
       " 'MALE',\n",
       " ',',\n",
       " 'seeks',\n",
       " 'attrac',\n",
       " 'older',\n",
       " 'single',\n",
       " 'lady',\n",
       " ',',\n",
       " 'for',\n",
       " 'discreet',\n",
       " 'encounters',\n",
       " '.',\n",
       " '35YO',\n",
       " 'Security',\n",
       " 'Guard',\n",
       " ',',\n",
       " 'seeking',\n",
       " 'lady']"
      ]
     },
     "execution_count": 31,
     "metadata": {},
     "output_type": "execute_result"
    }
   ],
   "source": [
    "text8[:20]"
   ]
  },
  {
   "cell_type": "markdown",
   "metadata": {},
   "source": [
    "### Examine the cocntext of a given word"
   ]
  },
  {
   "cell_type": "code",
   "execution_count": 6,
   "metadata": {},
   "outputs": [
    {
     "name": "stdout",
     "output_type": "stream",
     "text": [
      "Displaying 25 of 450 matches:\n",
      "see him now . He was ever dusting his old lexicons and grammars , with a queer \n",
      "s of the world . He loved to dust his old grammars ; it somehow mildly reminded\n",
      " SEBOND . \" Let us fly , let us fly ! Old Nick take me if is not Leviathan desc\n",
      "\" -- NANTUCKET SONG . \" Oh , the rare old Whale , mid storm and gale In his oce\n",
      "ow out of sight of land ? Why did the old Persians hold the sea holy ? Why did \n",
      " out of the idolatrous dotings of the old Egyptians upon broiled ibis and roast\n",
      "nour , particularly if you come of an old established family in the land , the \n",
      "rs off in time . What of it , if some old hunks of a sea - captain orders me to\n",
      "I promptly and respectfully obey that old hunks in that particular instance ? W\n",
      "l me that . Well , then , however the old sea - captains may order me about -- \n",
      "ag . I stuffed a shirt or two into my old carpet - bag , tucked it under my arm\n",
      "e Pacific . Quitting the good city of old Manhatto , I duly arrived in New Bedf\n",
      "everything connected with that famous old island , which amazingly pleased me .\n",
      "ling , and though in this matter poor old Nantucket is now much behind her , ye\n",
      "ueer sort of place -- a gable - ended old house , one side palsied as it were ,\n",
      "ous wind called Euroclydon ,\" says an old writer -- of whose works I possess th\n",
      "s this passage occurred to my mind -- old black - letter , thou reasonest well \n",
      "stuous Euroclydon . Euroclydon ! says old Dives , in his red silken wrapper --(\n",
      " a wide , low , straggling entry with old - fashioned wainscots , reminding one\n",
      "one of the bulwarks of some condemned old craft . On one side hung a very large\n",
      "plement . Mixed with these were rusty old whaling lances and harpoons all broke\n",
      "w - arched way -- cut through what in old times must have been a great central \n",
      " low ponderous beams above , and such old wrinkled planks beneath , that you wo\n",
      " you would almost fancy you trod some old craft ' s cockpits , especially of su\n",
      "g night , when this corner - anchored old ark rocked so furiously . On one side\n"
     ]
    }
   ],
   "source": [
    "text1.concordance(\"old\")"
   ]
  },
  {
   "cell_type": "markdown",
   "metadata": {},
   "source": [
    "his_lexicons; his_grammars; the_Persians; the_Egyptians"
   ]
  },
  {
   "cell_type": "markdown",
   "metadata": {},
   "source": [
    "Observe the forms of the adjacent words of \"old\", do you have some interesting findings? "
   ]
  },
  {
   "cell_type": "markdown",
   "metadata": {},
   "source": [
    "### What other owrds appear in a similar range of context? Like his_lexicons; his_grammars; the_Persians; the_Egyptians "
   ]
  },
  {
   "cell_type": "code",
   "execution_count": 7,
   "metadata": {},
   "outputs": [
    {
     "name": "stdout",
     "output_type": "stream",
     "text": [
      "the him all great men white little whaling a it them is which ancient\n",
      "much man captain nantucket good fast\n"
     ]
    }
   ],
   "source": [
    "text1.similar(\"old\")"
   ]
  },
  {
   "cell_type": "code",
   "execution_count": 8,
   "metadata": {},
   "outputs": [
    {
     "name": "stdout",
     "output_type": "stream",
     "text": [
      "man other long before young first world happy same simple party and\n",
      "sensibility family their large park late great house\n"
     ]
    }
   ],
   "source": [
    "text2.similar(\"old\")"
   ]
  },
  {
   "cell_type": "markdown",
   "metadata": {},
   "source": [
    "### common context"
   ]
  },
  {
   "cell_type": "code",
   "execution_count": 9,
   "metadata": {},
   "outputs": [
    {
     "name": "stdout",
     "output_type": "stream",
     "text": [
      "both_and\n"
     ]
    }
   ],
   "source": [
    "text1.common_contexts([\"old\",\"small\"])"
   ]
  },
  {
   "cell_type": "markdown",
   "metadata": {},
   "source": [
    "means we have \"both old and\" and \"both small and\" in the context(text1)"
   ]
  },
  {
   "cell_type": "markdown",
   "metadata": {},
   "source": [
    "### How to find the number of unique words and symbols in text1?"
   ]
  },
  {
   "cell_type": "code",
   "execution_count": null,
   "metadata": {},
   "outputs": [],
   "source": []
  },
  {
   "cell_type": "markdown",
   "metadata": {},
   "source": [
    "### \"Token\""
   ]
  },
  {
   "cell_type": "markdown",
   "metadata": {},
   "source": [
    "a token is the technical name for a sequence of characters, such as \".\", \"his\" and \"911\". "
   ]
  },
  {
   "cell_type": "markdown",
   "metadata": {},
   "source": [
    "### Count the number of occurence of a certain word in a text"
   ]
  },
  {
   "cell_type": "code",
   "execution_count": 12,
   "metadata": {},
   "outputs": [
    {
     "data": {
      "text/plain": [
       "42"
      ]
     },
     "execution_count": 12,
     "metadata": {},
     "output_type": "execute_result"
    }
   ],
   "source": [
    "text1.count(\"people\")"
   ]
  },
  {
   "cell_type": "markdown",
   "metadata": {},
   "source": [
    "### Lexical diversity"
   ]
  },
  {
   "cell_type": "code",
   "execution_count": 13,
   "metadata": {},
   "outputs": [],
   "source": [
    "def lexical_diversity(text):\n",
    "    return len(text) / len(set(text))"
   ]
  },
  {
   "cell_type": "code",
   "execution_count": 14,
   "metadata": {},
   "outputs": [
    {
     "data": {
      "text/plain": [
       "13.502044830977896"
      ]
     },
     "execution_count": 14,
     "metadata": {},
     "output_type": "execute_result"
    }
   ],
   "source": [
    "lexical_diversity(text1)"
   ]
  },
  {
   "cell_type": "markdown",
   "metadata": {},
   "source": [
    "text1: Moby Dick by Herman Melville 1851\n",
    "\n",
    "text2: Sense and Sensibility by Jane Austen 1811\n",
    "\n",
    "text3: The Book of Genesis\n",
    "\n",
    "text4: Inaugural Address Corpus\n",
    "\n",
    "text5: Chat Corpus\n",
    "\n",
    "text6: Monty Python and the Holy Grail\n",
    "\n",
    "text7: Wall Street Journal\n",
    "\n",
    "text8: Personals Corpus\n",
    "\n",
    "text9: The Man Who Was Thursday by G . K . Chesterton 1908"
   ]
  },
  {
   "cell_type": "markdown",
   "metadata": {},
   "source": [
    "#### Question: guess which text has the highest lexical diversity and which has the lowest?"
   ]
  },
  {
   "cell_type": "code",
   "execution_count": 24,
   "metadata": {},
   "outputs": [],
   "source": [
    "diversity = []\n",
    "textind = []\n",
    "text = [text1,text2,text3,text4,text5,text6,text7,text8,text9]\n",
    "for i in range(1,10):\n",
    "    textind.append('text'+str(i))\n",
    "for i in text: \n",
    "    diversity.append(lexical_diversity(i))"
   ]
  },
  {
   "cell_type": "code",
   "execution_count": 25,
   "metadata": {},
   "outputs": [
    {
     "data": {
      "text/plain": [
       "[13.502044830977896,\n",
       " 20.719449729255086,\n",
       " 16.050197203298673,\n",
       " 14.941049825712529,\n",
       " 7.420046158918563,\n",
       " 7.833333333333333,\n",
       " 8.113797549967762,\n",
       " 4.39259927797834,\n",
       " 10.167915381225209]"
      ]
     },
     "execution_count": 25,
     "metadata": {},
     "output_type": "execute_result"
    }
   ],
   "source": [
    "diversity"
   ]
  },
  {
   "cell_type": "code",
   "execution_count": 27,
   "metadata": {},
   "outputs": [
    {
     "data": {
      "text/plain": [
       "Text(0.5, 1.0, 'Lexical Diversity Score')"
      ]
     },
     "execution_count": 27,
     "metadata": {},
     "output_type": "execute_result"
    },
    {
     "data": {
      "image/png": "[encoded data removed]",
      "text/plain": [
       "<Figure size 432x288 with 1 Axes>"
      ]
     },
     "metadata": {
      "needs_background": "light"
     },
     "output_type": "display_data"
    }
   ],
   "source": [
    "plt.plot(textind, diversity)\n",
    "plt.title(\"Lexical Diversity Score\")"
   ]
  },
  {
   "cell_type": "markdown",
   "metadata": {},
   "source": [
    "### For a “slice” (also called a “subset” or a “chunk”) of text 9 of the first 1000 words, comment on what the lexical diversity score for these 1000 words versus the score for text 9 as a whole indicates."
   ]
  },
  {
   "cell_type": "code",
   "execution_count": 28,
   "metadata": {},
   "outputs": [],
   "source": [
    "text9_short = text9[:1000]"
   ]
  },
  {
   "cell_type": "code",
   "execution_count": 29,
   "metadata": {},
   "outputs": [
    {
     "data": {
      "text/plain": [
       "2.192982456140351"
      ]
     },
     "execution_count": 29,
     "metadata": {},
     "output_type": "execute_result"
    }
   ],
   "source": [
    "lexical_diversity(text9_short)"
   ]
  },
  {
   "cell_type": "markdown",
   "metadata": {},
   "source": [
    "### The most common 10 words in text 9 (the 10 “most frequent”)"
   ]
  },
  {
   "cell_type": "code",
   "execution_count": 34,
   "metadata": {},
   "outputs": [
    {
     "data": {
      "text/plain": [
       "[(',', 3488),\n",
       " ('the', 3291),\n",
       " ('.', 2717),\n",
       " ('a', 1713),\n",
       " ('of', 1710),\n",
       " ('and', 1568),\n",
       " ('\"', 1336),\n",
       " ('to', 1045),\n",
       " ('in', 888),\n",
       " ('I', 885)]"
      ]
     },
     "execution_count": 34,
     "metadata": {},
     "output_type": "execute_result"
    }
   ],
   "source": [
    "fdist = FreqDist(text9)\n",
    "fdist.most_common(10)"
   ]
  },
  {
   "cell_type": "code",
   "execution_count": 35,
   "metadata": {},
   "outputs": [],
   "source": [
    "def count_fre(text):\n",
    "    d = {}\n",
    "    for i in text:\n",
    "        if i in d:\n",
    "            d[i] += 1\n",
    "        else:\n",
    "            d[i] = 1\n",
    "    return d"
   ]
  },
  {
   "cell_type": "code",
   "execution_count": 38,
   "metadata": {},
   "outputs": [],
   "source": [
    "d = count_fre(text9)"
   ]
  },
  {
   "cell_type": "code",
   "execution_count": 42,
   "metadata": {},
   "outputs": [
    {
     "data": {
      "text/plain": [
       "[',', 'the', '.', 'a', 'of', 'and', '\"', 'to', 'in', 'I']"
      ]
     },
     "execution_count": 42,
     "metadata": {},
     "output_type": "execute_result"
    }
   ],
   "source": [
    "sorted(d, key=lambda k: d[k], reverse=True)[:10]"
   ]
  },
  {
   "cell_type": "markdown",
   "metadata": {},
   "source": [
    "### Provide all words longer than 12 letters in text9."
   ]
  },
  {
   "cell_type": "code",
   "execution_count": 43,
   "metadata": {},
   "outputs": [],
   "source": [
    "textset = set(text9)"
   ]
  },
  {
   "cell_type": "code",
   "execution_count": 44,
   "metadata": {},
   "outputs": [],
   "source": [
    "longl= [i for i in textset if len(i) > 12]"
   ]
  },
  {
   "cell_type": "code",
   "execution_count": 45,
   "metadata": {},
   "outputs": [
    {
     "name": "stdout",
     "output_type": "stream",
     "text": [
      "['Nonconformists', 'extraordinary', 'instantaneous', 'vegetarianism', 'rationalistic', 'communication', 'dispassionately', 'contradiction', 'companionable', 'conventionally', 'determination', 'philanthropic', 'unintelligible', 'UNACCOUNTABLE', 'Mediterranean', 'uncontrollable', 'companionship', 'possibilities', 'perambulators', 'Impressionism', 'psychological', 'psychologically', 'advertisement', 'superstitious', 'indecipherable', 'sentimentalists', 'unconsciously', 'revolutionist', 'inexperienced', 'philosophical', 'improvisation', 'comparatively', 'assassination', 'revolutionary', 'uncomfortable', 'circumstances', 'simultaneously', 'instinctively', 'conversational', 'representative', 'embarrassment', 'Theoretically', 'understanding', 'uncompromising', 'sarcastically', 'unforgettable', 'thoroughfares', 'ecclesiastical', 'transformation', 'communications', 'mathematicians', 'incomprehensible', 'characteristic', 'foreshortened', 'unaccountable', 'disadvantages', 'inexhaustible', 'disproportion', 'inexpressibly', 'introspective', 'misunderstood', 'conscientious', 'apologetically', 'unquestionable', 'parliamentarian', 'reconciliation', 'irreconcilable', 'revolutionists', 'contemptuously', 'indescribable', 'compassionate', 'diplomatically', 'neighbourhood', 'professionally', 'discoloration', 'eccentricities', 'controversial', 'differentiation', 'unexplainable', 'revolutionise', 'undenominational', 'corresponding', 'thunderstruck', 'responsibility', 'insupportable', 'distinguished', 'congratulated', 'unobtrusively', 'bewilderments', 'intellectually', 'cinematograph', 'Extraordinary', 'incredulously', 'unaccountably', 'respectability', 'superciliously', 'investigation', 'intellectualism', 'communicative', 'unquestionably', 'unpretentious', 'contemplation', 'exaggeratively']\n"
     ]
    }
   ],
   "source": [
    "print(longl) "
   ]
  },
  {
   "cell_type": "markdown",
   "metadata": {},
   "source": [
    "###  Provide the top 10 most frequent word lengths in your text9. What do the frequencies of word lengths tell you about your text? (Compare with the other texts if you like.)"
   ]
  },
  {
   "cell_type": "code",
   "execution_count": null,
   "metadata": {},
   "outputs": [],
   "source": []
  }
 ],
 "metadata": {
  "kernelspec": {
   "display_name": "Python 3",
   "language": "python",
   "name": "python3"
  },
  "language_info": {
   "codemirror_mode": {
    "name": "ipython",
    "version": 3
   },
   "file_extension": ".py",
   "mimetype": "text/x-python",
   "name": "python",
   "nbconvert_exporter": "python",
   "pygments_lexer": "ipython3",
   "version": "3.7.3"
  }
 },
 "nbformat": 4,
 "nbformat_minor": 2
}
